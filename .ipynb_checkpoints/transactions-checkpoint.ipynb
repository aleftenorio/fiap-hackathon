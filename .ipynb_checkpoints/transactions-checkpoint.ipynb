{
 "cells": [
  {
   "cell_type": "code",
   "execution_count": null,
   "metadata": {},
   "outputs": [],
   "source": [
    "import gzip\n",
    "import os\n",
    "import pandas as pd\n",
    "\n",
<<<<<<< HEAD:.ipynb_checkpoints/data_engine-checkpoint.ipynb
    "files = os.listdir('./transacoes/_baixadoNovamente')\n",
    "df = pd.DataFrame()\n",
    "for filename in files:\n",
    "    if filename.endswith(\".csv.gz\"):\n",
    "        df = pd.concat([pd.read_csv(\n",
    "            './transacoes/_baixadoNovamente/'+filename, \n",
    "            compression='gzip',\n",
    "            header=0,\n",
    "            error_bad_lines=False,\n",
    "            usecols=['encrypted_domain', 'encrypted_cnpj','encrypted_saleid','dateTime','productTotal','prod_fullname','encrypted_buyer_cpf','encrypted_buyer_cnpj']), df])\n",
=======
    "#files = os.listdir('./transacoes')\n",
    "#df = pd.DataFrame()\n",
    "#for filename in files:\n",
    "#    if filename.endswith(\".csv.gz\"):\n",
    "#        df = pd.concat([pd.read_csv(gzip.open(filename)), df])\n",
>>>>>>> 749d3bac528da3712afbd33cdbf43076670b0bdf:.ipynb_checkpoints/transactions-checkpoint.ipynb
    "        \n",
    "        \n",
    "df.head()\n",
    "\n",
    "\n",
    "# with gzip.open('./transacoes/raw_part-00000.csv.gz') as f:\n",
    "#     features_train = pd.read_csv(f, usecols=['encrypted_domain', 'encrypted_cnpj','encrypted_saleid','dateTime','productTotal','prod_fullname','encrypted_buyer_cpf','encrypted_buyer_cnpj'])\n",
    "# features_train.head()"
   ]
  },
  {
   "cell_type": "code",
   "execution_count": null,
   "metadata": {},
   "outputs": [],
   "source": []
  }
 ],
 "metadata": {
  "kernelspec": {
   "display_name": "Python 3",
   "language": "python",
   "name": "python3"
  },
  "language_info": {
   "codemirror_mode": {
    "name": "ipython",
    "version": 3
   },
   "file_extension": ".py",
   "mimetype": "text/x-python",
   "name": "python",
   "nbconvert_exporter": "python",
   "pygments_lexer": "ipython3",
   "version": "3.7.3"
  }
 },
 "nbformat": 4,
 "nbformat_minor": 2
}
