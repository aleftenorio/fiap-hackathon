{
 "cells": [
  {
   "cell_type": "code",
   "execution_count": null,
   "metadata": {},
   "outputs": [],
   "source": [
    "import gzip\n",
    "import os\n",
    "import pandas as pd\n",
    "\n",
    "files = os.listdir('./transacoes/_baixadoNovamente')\n",
    "df = pd.DataFrame()\n",
    "for filename in files:\n",
    "    if filename.endswith(\".csv.gz\"):\n",
    "        df = pd.concat([pd.read_csv(\n",
    "            './transacoes/_baixadoNovamente/'+filename, \n",
    "            compression='gzip',\n",
    "            header=0,\n",
    "            error_bad_lines=False,\n",
    "            usecols=['encrypted_domain', 'encrypted_cnpj','encrypted_saleid','dateTime','productTotal','prod_fullname','encrypted_buyer_cpf','encrypted_buyer_cnpj']), df])\n",
    "        \n",
    "        \n",
    "df.head()\n",
    "\n",
    "\n",
    "# with gzip.open('./transacoes/raw_part-00000.csv.gz') as f:\n",
    "#     features_train = pd.read_csv(f, usecols=['encrypted_domain', 'encrypted_cnpj','encrypted_saleid','dateTime','productTotal','prod_fullname','encrypted_buyer_cpf','encrypted_buyer_cnpj'])\n",
    "# features_train.head()"
   ]
  },
  {
   "cell_type": "code",
   "execution_count": null,
   "metadata": {},
   "outputs": [],
   "source": []
  }
 ],
 "metadata": {
  "kernelspec": {
   "display_name": "Python 2",
   "language": "python",
   "name": "python2"
  },
  "language_info": {
   "codemirror_mode": {
    "name": "ipython",
    "version": 2
   },
   "file_extension": ".py",
   "mimetype": "text/x-python",
   "name": "python",
   "nbconvert_exporter": "python",
   "pygments_lexer": "ipython2",
   "version": "2.7.16"
  }
 },
 "nbformat": 4,
 "nbformat_minor": 2
}
